{
  "nbformat": 4,
  "nbformat_minor": 0,
  "metadata": {
    "colab": {
      "provenance": [],
      "include_colab_link": true
    },
    "kernelspec": {
      "name": "python3",
      "display_name": "Python 3"
    },
    "language_info": {
      "name": "python"
    }
  },
  "cells": [
    {
      "cell_type": "markdown",
      "metadata": {
        "id": "view-in-github",
        "colab_type": "text"
      },
      "source": [
        "<a href=\"https://colab.research.google.com/github/jashvanjara/UNSW-Datathon-2023/blob/main/Sliding_Scale_%5BSecond_Generation%5D.ipynb\" target=\"_parent\"><img src=\"https://colab.research.google.com/assets/colab-badge.svg\" alt=\"Open In Colab\"/></a>"
      ]
    },
    {
      "cell_type": "code",
      "execution_count": null,
      "metadata": {
        "id": "PNSUvBBPgrt7"
      },
      "outputs": [],
      "source": [
        "import os\n",
        "import datetime\n",
        "\n",
        "import IPython\n",
        "import IPython.display\n",
        "import matplotlib as mpl\n",
        "import matplotlib.pyplot as plt\n",
        "import numpy as np\n",
        "import pandas as pd\n",
        "import seaborn as sns\n",
        "import tensorflow as tf\n",
        "import matplotlib.ticker as mtick\n",
        "\n",
        "mpl.rcParams['figure.figsize'] = (8, 6)\n",
        "mpl.rcParams['axes.grid'] = False"
      ]
    },
    {
      "cell_type": "code",
      "source": [
        "\n",
        "csv_path, _ = os.path.splitext(\"https://raw.githubusercontent.com/jashvanjara/UNSW-Datathon-2023/main/HIV-Dataset.csv\")"
      ],
      "metadata": {
        "id": "54nSrFbtguTL"
      },
      "execution_count": null,
      "outputs": []
    },
    {
      "cell_type": "code",
      "source": [
        "Data = pd.read_csv(\"https://raw.githubusercontent.com/jashvanjara/UNSW-Datathon-2023/main/HIV-Dataset.csv\")"
      ],
      "metadata": {
        "id": "SYpm0wlmgwFx"
      },
      "execution_count": null,
      "outputs": []
    },
    {
      "cell_type": "code",
      "source": [
        "data = Data.to_numpy()"
      ],
      "metadata": {
        "id": "NoMp88fngxuO"
      },
      "execution_count": null,
      "outputs": []
    },
    {
      "cell_type": "code",
      "source": [
        "data.shape"
      ],
      "metadata": {
        "colab": {
          "base_uri": "https://localhost:8080/"
        },
        "id": "3znuN0iohPyP",
        "outputId": "32841dad-0481-4638-ca1c-edb52c8e056f"
      },
      "execution_count": null,
      "outputs": [
        {
          "output_type": "execute_result",
          "data": {
            "text/plain": [
              "(534960, 15)"
            ]
          },
          "metadata": {},
          "execution_count": 5
        }
      ]
    },
    {
      "cell_type": "code",
      "source": [
        "#search = np.array([]).reshape(int(len(data)/60) * 36, 8)\n",
        "\n",
        "total_size = int(len(data)/60) * 36\n",
        "print(total_size)\n",
        "\n",
        "search = np.zeros((total_size, 12, 11))\n",
        "demographic = np.zeros((total_size, 2))\n",
        "outcome = np.zeros((total_size, 2))\n",
        "#search = np.concatenate((search, [data[0:12, 0]]))"
      ],
      "metadata": {
        "colab": {
          "base_uri": "https://localhost:8080/"
        },
        "id": "fnCKUE02hja2",
        "outputId": "8d1af3bf-94a5-4c74-d112-b92e7fe1c9c7"
      },
      "execution_count": null,
      "outputs": [
        {
          "output_type": "stream",
          "name": "stdout",
          "text": [
            "320976\n"
          ]
        }
      ]
    },
    {
      "cell_type": "code",
      "source": [
        "for patient in range(int(len(data)/60)):\n",
        "    # Calculate first time stamp position\n",
        "    old_pos = patient*60\n",
        "    \n",
        "    # Store demographic information as one-off\n",
        "    demo = [data[old_pos, 3], data[old_pos, 4]]\n",
        "    \n",
        "    \n",
        "    for month in range(60):\n",
        "        # Calculate positions\n",
        "        new_pos = (patient*36)+month\n",
        "        old_pos = (patient*60)+month\n",
        "        \n",
        "        if month < 36:\n",
        "            # Store demographic\n",
        "            demographic[new_pos] = demo\n",
        "        \n",
        "            # Add new input for next 12 months\n",
        "            search[new_pos, :, 0:3] = data[old_pos:old_pos+12, 0:3]\n",
        "            search[new_pos, :, 3:11] = data[old_pos:old_pos+12, 5:13]\n",
        "        \n",
        "            # Review change in drug compared to last value of previous month\n",
        "            if (data[old_pos+12, 5:10] == data[old_pos+24, 5:10]).all():\n",
        "                    outcome[new_pos, 0] = 1\n",
        "        \n",
        "        if month > 12:\n",
        "            # Review for non-adherence\n",
        "            if data[old_pos, 12] == 0.0:\n",
        "                outcome[new_pos-13:new_pos-1, 1] = 1"
      ],
      "metadata": {
        "id": "t3oGu8gUhRa9"
      },
      "execution_count": null,
      "outputs": []
    },
    {
      "cell_type": "code",
      "source": [
        "search.shape"
      ],
      "metadata": {
        "colab": {
          "base_uri": "https://localhost:8080/"
        },
        "id": "Tav1h8jSiMJF",
        "outputId": "b8ea214c-fa71-4c45-eaa4-b1045fa77c4f"
      },
      "execution_count": null,
      "outputs": [
        {
          "output_type": "execute_result",
          "data": {
            "text/plain": [
              "(320976, 12, 11)"
            ]
          },
          "metadata": {},
          "execution_count": 8
        }
      ]
    },
    {
      "cell_type": "code",
      "source": [
        "search = search.reshape(total_size, 12 * 11)"
      ],
      "metadata": {
        "id": "-Cckgigfhixd"
      },
      "execution_count": null,
      "outputs": []
    },
    {
      "cell_type": "code",
      "source": [
        "outcome.shape"
      ],
      "metadata": {
        "colab": {
          "base_uri": "https://localhost:8080/"
        },
        "id": "HiM4vxh6ijeh",
        "outputId": "7f710124-0d80-481d-f794-ca747c8087c4"
      },
      "execution_count": null,
      "outputs": [
        {
          "output_type": "execute_result",
          "data": {
            "text/plain": [
              "(320976, 2)"
            ]
          },
          "metadata": {},
          "execution_count": 10
        }
      ]
    },
    {
      "cell_type": "code",
      "source": [
        "dataset = np.concatenate((demographic, search, outcome), axis=1)"
      ],
      "metadata": {
        "id": "gQ7LTwUSibEa"
      },
      "execution_count": null,
      "outputs": []
    },
    {
      "cell_type": "code",
      "source": [
        "dataset.shape"
      ],
      "metadata": {
        "colab": {
          "base_uri": "https://localhost:8080/"
        },
        "id": "suMKYqDOjGDm",
        "outputId": "6638abcd-bfcf-4fab-dbab-fbdacbac2ba3"
      },
      "execution_count": null,
      "outputs": [
        {
          "output_type": "execute_result",
          "data": {
            "text/plain": [
              "(320976, 136)"
            ]
          },
          "metadata": {},
          "execution_count": 12
        }
      ]
    },
    {
      "cell_type": "code",
      "source": [
        "df = dataset"
      ],
      "metadata": {
        "id": "ONAiV8Z3jfE0"
      },
      "execution_count": null,
      "outputs": []
    },
    {
      "cell_type": "code",
      "source": [
        "n = len(df)\n",
        "train_df = df[0:int(n*0.7)]\n",
        "val_df = df[int(n*0.7):int(n*0.9)]\n",
        "test_df = df[int(n*0.9):]\n",
        "\n",
        "num_features = df.shape[1]"
      ],
      "metadata": {
        "id": "6aPIT2tCjQzy"
      },
      "execution_count": null,
      "outputs": []
    },
    {
      "cell_type": "code",
      "source": [
        "train_mean = train_df.mean()\n",
        "train_std = train_df.std()\n",
        "\n",
        "train_df = (train_df - train_mean) / train_std\n",
        "val_df = (val_df - train_mean) / train_std\n",
        "test_df = (test_df - train_mean) / train_std"
      ],
      "metadata": {
        "id": "SRIuMm4ajKt1"
      },
      "execution_count": null,
      "outputs": []
    },
    {
      "cell_type": "code",
      "source": [
        "np.squeeze(train_df[:, 135:136]).shape"
      ],
      "metadata": {
        "colab": {
          "base_uri": "https://localhost:8080/"
        },
        "id": "BwIFG2Xplt2E",
        "outputId": "cee25fed-94c7-4c22-a2dc-210f3ea50366"
      },
      "execution_count": null,
      "outputs": [
        {
          "output_type": "execute_result",
          "data": {
            "text/plain": [
              "(224683,)"
            ]
          },
          "metadata": {},
          "execution_count": 16
        }
      ]
    },
    {
      "cell_type": "code",
      "source": [
        "col = np.array([])\n",
        "for i in range(12):\n",
        "    col = np.append(col, (Data.columns[0:3] + \"_\" + str(i)).append(Data.columns[5:13] + \"_\" + str(i)))\n",
        "\n",
        "final = pd.concat([\n",
        "    pd.DataFrame(demographic, columns=['Gender', 'Ethnicity']),\n",
        "    pd.DataFrame(search.reshape(total_size, 12 * 11), columns = col),\n",
        "    pd.DataFrame(outcome, columns=['Drug Changed', \"Non Adherent\"])],\n",
        "    axis = 1)"
      ],
      "metadata": {
        "id": "BIMYOiSNmsnI"
      },
      "execution_count": null,
      "outputs": []
    },
    {
      "cell_type": "code",
      "source": [
        "ds = tf.data.Dataset.from_tensor_slices(final)"
      ],
      "metadata": {
        "id": "RWfTa4nRjMMc"
      },
      "execution_count": null,
      "outputs": []
    },
    {
      "cell_type": "code",
      "source": [
        "def get_basic_model():\n",
        "  model = tf.keras.Sequential([\n",
        "    tf.keras.layers.Dense(10, activation='relu'),\n",
        "    tf.keras.layers.Dense(10, activation='relu'),\n",
        "    tf.keras.layers.Dense(1)\n",
        "  ])\n",
        "\n",
        "  model.compile(optimizer='adam',\n",
        "                loss=tf.keras.losses.BinaryCrossentropy(from_logits=True),\n",
        "                metrics=['accuracy'])\n",
        "  return model"
      ],
      "metadata": {
        "id": "shL9midwjMPY"
      },
      "execution_count": null,
      "outputs": []
    },
    {
      "cell_type": "code",
      "source": [
        "target = final.pop(\"Drug Changed\")"
      ],
      "metadata": {
        "id": "kcbk-i-8jMSg"
      },
      "execution_count": null,
      "outputs": []
    },
    {
      "cell_type": "code",
      "source": [
        "alt_target = final.pop(\"Non Adherent\")"
      ],
      "metadata": {
        "id": "CetLFE7xqkje"
      },
      "execution_count": null,
      "outputs": []
    },
    {
      "cell_type": "code",
      "source": [
        "tf.convert_to_tensor(final)\n",
        "print()"
      ],
      "metadata": {
        "colab": {
          "base_uri": "https://localhost:8080/"
        },
        "id": "VFWkTx05jMVS",
        "outputId": "f91f8357-9961-43ab-ad8e-b30e5c7840b4"
      },
      "execution_count": null,
      "outputs": [
        {
          "output_type": "stream",
          "name": "stdout",
          "text": [
            "\n"
          ]
        }
      ]
    },
    {
      "cell_type": "code",
      "source": [
        "final.shape"
      ],
      "metadata": {
        "colab": {
          "base_uri": "https://localhost:8080/"
        },
        "id": "G0yZchWms80V",
        "outputId": "187d0dd2-3cac-48da-da33-00c86c5ce13e"
      },
      "execution_count": null,
      "outputs": [
        {
          "output_type": "execute_result",
          "data": {
            "text/plain": [
              "(320976, 134)"
            ]
          },
          "metadata": {},
          "execution_count": 23
        }
      ]
    },
    {
      "cell_type": "code",
      "source": [
        "numerical_cols = []\n",
        "categorical_cols = [1]\n",
        "bool_cols = [0]\n",
        "\n",
        "for m in range(12):\n",
        "  for i in range(11):\n",
        "    if i < 3:\n",
        "      numerical_cols.append(m*11 + i + 2)\n",
        "    elif i < 8:\n",
        "      categorical_cols.append(m*11 + i + 2)\n",
        "    else:\n",
        "      bool_cols.append(m*11 + i + 2)\n",
        "\n",
        "\n",
        "# 5, 6, 7, 8, 9, 16, 17, 18\n",
        "#final.iloc[:, six_cat_cols]"
      ],
      "metadata": {
        "id": "NgbSg_3frENe"
      },
      "execution_count": null,
      "outputs": []
    },
    {
      "cell_type": "code",
      "source": [
        " final.iloc[:, categorical_cols].columns"
      ],
      "metadata": {
        "colab": {
          "base_uri": "https://localhost:8080/"
        },
        "id": "L38DX3JmzUyy",
        "outputId": "6af36b0e-36d9-4678-83a6-c9a464bef48c"
      },
      "execution_count": null,
      "outputs": [
        {
          "output_type": "execute_result",
          "data": {
            "text/plain": [
              "Index(['Ethnicity', 'Base Drug Combo_0', 'Comp. INI_0', 'Comp. NNRTI_0',\n",
              "       'Extra PI_0', 'Extra pk-En_0', 'Base Drug Combo_1', 'Comp. INI_1',\n",
              "       'Comp. NNRTI_1', 'Extra PI_1', 'Extra pk-En_1', 'Base Drug Combo_2',\n",
              "       'Comp. INI_2', 'Comp. NNRTI_2', 'Extra PI_2', 'Extra pk-En_2',\n",
              "       'Base Drug Combo_3', 'Comp. INI_3', 'Comp. NNRTI_3', 'Extra PI_3',\n",
              "       'Extra pk-En_3', 'Base Drug Combo_4', 'Comp. INI_4', 'Comp. NNRTI_4',\n",
              "       'Extra PI_4', 'Extra pk-En_4', 'Base Drug Combo_5', 'Comp. INI_5',\n",
              "       'Comp. NNRTI_5', 'Extra PI_5', 'Extra pk-En_5', 'Base Drug Combo_6',\n",
              "       'Comp. INI_6', 'Comp. NNRTI_6', 'Extra PI_6', 'Extra pk-En_6',\n",
              "       'Base Drug Combo_7', 'Comp. INI_7', 'Comp. NNRTI_7', 'Extra PI_7',\n",
              "       'Extra pk-En_7', 'Base Drug Combo_8', 'Comp. INI_8', 'Comp. NNRTI_8',\n",
              "       'Extra PI_8', 'Extra pk-En_8', 'Base Drug Combo_9', 'Comp. INI_9',\n",
              "       'Comp. NNRTI_9', 'Extra PI_9', 'Extra pk-En_9', 'Base Drug Combo_10',\n",
              "       'Comp. INI_10', 'Comp. NNRTI_10', 'Extra PI_10', 'Extra pk-En_10',\n",
              "       'Base Drug Combo_11', 'Comp. INI_11', 'Comp. NNRTI_11', 'Extra PI_11',\n",
              "       'Extra pk-En_11'],\n",
              "      dtype='object')"
            ]
          },
          "metadata": {},
          "execution_count": 25
        }
      ]
    },
    {
      "cell_type": "code",
      "source": [
        "df = pd.get_dummies(final, columns = final.iloc[:, categorical_cols].columns)"
      ],
      "metadata": {
        "id": "ud20jskdyUVz"
      },
      "execution_count": null,
      "outputs": []
    },
    {
      "cell_type": "code",
      "source": [
        "df = (df-df.min())/(df.max()-df.min())"
      ],
      "metadata": {
        "id": "5bzZuMiv0TxY"
      },
      "execution_count": null,
      "outputs": []
    },
    {
      "cell_type": "code",
      "source": [
        "df.shape"
      ],
      "metadata": {
        "colab": {
          "base_uri": "https://localhost:8080/"
        },
        "id": "pW-hfp62y_D7",
        "outputId": "5ee5f5c1-18b7-42e6-d22e-60eed7d61925"
      },
      "execution_count": null,
      "outputs": [
        {
          "output_type": "execute_result",
          "data": {
            "text/plain": [
              "(320976, 341)"
            ]
          },
          "metadata": {},
          "execution_count": 28
        }
      ]
    },
    {
      "cell_type": "code",
      "source": [
        "from sklearn.model_selection import train_test_split"
      ],
      "metadata": {
        "id": "lwnfDHR61eAV"
      },
      "execution_count": null,
      "outputs": []
    },
    {
      "cell_type": "code",
      "source": [
        "#X_train,X_test,y_train,y_test = train_test_split(df.index,target,test_size=0.2)\n",
        "X_train,X_test,y_train,y_test = df.index[:260000], df.index[260000:], target[:260000],target[260000:]\n",
        "df.iloc[X_train] # return dataframe train"
      ],
      "metadata": {
        "colab": {
          "base_uri": "https://localhost:8080/",
          "height": 505
        },
        "id": "FPep88cr3VzC",
        "outputId": "23b75eeb-68dc-4c44-fd7b-a00491bc741c"
      },
      "execution_count": null,
      "outputs": [
        {
          "output_type": "execute_result",
          "data": {
            "text/plain": [
              "        Gender      VL_0     CD4_0  Rel CD4_0  VL (M)_0  CD4 (M)_0  \\\n",
              "0          0.0  0.000306  0.028399   0.069033       0.0        1.0   \n",
              "1          0.0  0.000299  0.016611   0.067893       0.0        0.0   \n",
              "2          0.0  0.000294  0.016528   0.068010       0.0        0.0   \n",
              "3          0.0  0.000287  0.024731   0.067637       0.0        0.0   \n",
              "4          0.0  0.000294  0.022914   0.066912       0.0        0.0   \n",
              "...        ...       ...       ...        ...       ...        ...   \n",
              "259995     1.0  0.001080  0.020423   0.055184       0.0        1.0   \n",
              "259996     1.0  0.000545  0.022688   0.057960       0.0        1.0   \n",
              "259997     1.0  0.001140  0.023316   0.052394       0.0        1.0   \n",
              "259998     1.0  0.000103  0.031295   0.067711       1.0        1.0   \n",
              "259999     1.0  0.000033  0.013391   0.106126       0.0        0.0   \n",
              "\n",
              "        Drug (M)_0      VL_1     CD4_1  Rel CD4_1  ...  Comp. NNRTI_11_2.0  \\\n",
              "0              1.0  0.000299  0.015900   0.055030  ...                 0.0   \n",
              "1              1.0  0.000294  0.015821   0.055126  ...                 0.0   \n",
              "2              1.0  0.000287  0.023672   0.054823  ...                 0.0   \n",
              "3              1.0  0.000295  0.021933   0.054236  ...                 0.0   \n",
              "4              1.0  0.000287  0.015102   0.055594  ...                 0.0   \n",
              "...            ...       ...       ...        ...  ...                 ...   \n",
              "259995         1.0  0.000546  0.021717   0.046979  ...                 0.0   \n",
              "259996         1.0  0.001141  0.022318   0.042468  ...                 0.0   \n",
              "259997         1.0  0.000103  0.029955   0.054883  ...                 0.0   \n",
              "259998         1.0  0.000033  0.012818   0.086021  ...                 0.0   \n",
              "259999         1.0  0.000083  0.019840   0.064672  ...                 0.0   \n",
              "\n",
              "        Comp. NNRTI_11_3.0  Extra PI_11_0.0  Extra PI_11_1.0  Extra PI_11_2.0  \\\n",
              "0                      1.0              0.0              0.0              0.0   \n",
              "1                      1.0              0.0              0.0              0.0   \n",
              "2                      1.0              0.0              0.0              0.0   \n",
              "3                      1.0              0.0              0.0              0.0   \n",
              "4                      1.0              0.0              0.0              0.0   \n",
              "...                    ...              ...              ...              ...   \n",
              "259995                 1.0              1.0              0.0              0.0   \n",
              "259996                 1.0              1.0              0.0              0.0   \n",
              "259997                 1.0              1.0              0.0              0.0   \n",
              "259998                 1.0              1.0              0.0              0.0   \n",
              "259999                 1.0              0.0              1.0              0.0   \n",
              "\n",
              "        Extra PI_11_3.0  Extra PI_11_4.0  Extra PI_11_5.0  Extra pk-En_11_0.0  \\\n",
              "0                   0.0              0.0              1.0                 1.0   \n",
              "1                   0.0              0.0              1.0                 1.0   \n",
              "2                   0.0              0.0              1.0                 1.0   \n",
              "3                   0.0              0.0              1.0                 1.0   \n",
              "4                   0.0              0.0              1.0                 1.0   \n",
              "...                 ...              ...              ...                 ...   \n",
              "259995              0.0              0.0              0.0                 1.0   \n",
              "259996              0.0              0.0              0.0                 1.0   \n",
              "259997              0.0              0.0              0.0                 1.0   \n",
              "259998              0.0              0.0              0.0                 1.0   \n",
              "259999              0.0              0.0              0.0                 1.0   \n",
              "\n",
              "        Extra pk-En_11_1.0  \n",
              "0                      0.0  \n",
              "1                      0.0  \n",
              "2                      0.0  \n",
              "3                      0.0  \n",
              "4                      0.0  \n",
              "...                    ...  \n",
              "259995                 0.0  \n",
              "259996                 0.0  \n",
              "259997                 0.0  \n",
              "259998                 0.0  \n",
              "259999                 0.0  \n",
              "\n",
              "[260000 rows x 341 columns]"
            ],
            "text/html": [
              "\n",
              "  <div id=\"df-e9700f8e-2773-4630-8187-43a026e2873e\">\n",
              "    <div class=\"colab-df-container\">\n",
              "      <div>\n",
              "<style scoped>\n",
              "    .dataframe tbody tr th:only-of-type {\n",
              "        vertical-align: middle;\n",
              "    }\n",
              "\n",
              "    .dataframe tbody tr th {\n",
              "        vertical-align: top;\n",
              "    }\n",
              "\n",
              "    .dataframe thead th {\n",
              "        text-align: right;\n",
              "    }\n",
              "</style>\n",
              "<table border=\"1\" class=\"dataframe\">\n",
              "  <thead>\n",
              "    <tr style=\"text-align: right;\">\n",
              "      <th></th>\n",
              "      <th>Gender</th>\n",
              "      <th>VL_0</th>\n",
              "      <th>CD4_0</th>\n",
              "      <th>Rel CD4_0</th>\n",
              "      <th>VL (M)_0</th>\n",
              "      <th>CD4 (M)_0</th>\n",
              "      <th>Drug (M)_0</th>\n",
              "      <th>VL_1</th>\n",
              "      <th>CD4_1</th>\n",
              "      <th>Rel CD4_1</th>\n",
              "      <th>...</th>\n",
              "      <th>Comp. NNRTI_11_2.0</th>\n",
              "      <th>Comp. NNRTI_11_3.0</th>\n",
              "      <th>Extra PI_11_0.0</th>\n",
              "      <th>Extra PI_11_1.0</th>\n",
              "      <th>Extra PI_11_2.0</th>\n",
              "      <th>Extra PI_11_3.0</th>\n",
              "      <th>Extra PI_11_4.0</th>\n",
              "      <th>Extra PI_11_5.0</th>\n",
              "      <th>Extra pk-En_11_0.0</th>\n",
              "      <th>Extra pk-En_11_1.0</th>\n",
              "    </tr>\n",
              "  </thead>\n",
              "  <tbody>\n",
              "    <tr>\n",
              "      <th>0</th>\n",
              "      <td>0.0</td>\n",
              "      <td>0.000306</td>\n",
              "      <td>0.028399</td>\n",
              "      <td>0.069033</td>\n",
              "      <td>0.0</td>\n",
              "      <td>1.0</td>\n",
              "      <td>1.0</td>\n",
              "      <td>0.000299</td>\n",
              "      <td>0.015900</td>\n",
              "      <td>0.055030</td>\n",
              "      <td>...</td>\n",
              "      <td>0.0</td>\n",
              "      <td>1.0</td>\n",
              "      <td>0.0</td>\n",
              "      <td>0.0</td>\n",
              "      <td>0.0</td>\n",
              "      <td>0.0</td>\n",
              "      <td>0.0</td>\n",
              "      <td>1.0</td>\n",
              "      <td>1.0</td>\n",
              "      <td>0.0</td>\n",
              "    </tr>\n",
              "    <tr>\n",
              "      <th>1</th>\n",
              "      <td>0.0</td>\n",
              "      <td>0.000299</td>\n",
              "      <td>0.016611</td>\n",
              "      <td>0.067893</td>\n",
              "      <td>0.0</td>\n",
              "      <td>0.0</td>\n",
              "      <td>1.0</td>\n",
              "      <td>0.000294</td>\n",
              "      <td>0.015821</td>\n",
              "      <td>0.055126</td>\n",
              "      <td>...</td>\n",
              "      <td>0.0</td>\n",
              "      <td>1.0</td>\n",
              "      <td>0.0</td>\n",
              "      <td>0.0</td>\n",
              "      <td>0.0</td>\n",
              "      <td>0.0</td>\n",
              "      <td>0.0</td>\n",
              "      <td>1.0</td>\n",
              "      <td>1.0</td>\n",
              "      <td>0.0</td>\n",
              "    </tr>\n",
              "    <tr>\n",
              "      <th>2</th>\n",
              "      <td>0.0</td>\n",
              "      <td>0.000294</td>\n",
              "      <td>0.016528</td>\n",
              "      <td>0.068010</td>\n",
              "      <td>0.0</td>\n",
              "      <td>0.0</td>\n",
              "      <td>1.0</td>\n",
              "      <td>0.000287</td>\n",
              "      <td>0.023672</td>\n",
              "      <td>0.054823</td>\n",
              "      <td>...</td>\n",
              "      <td>0.0</td>\n",
              "      <td>1.0</td>\n",
              "      <td>0.0</td>\n",
              "      <td>0.0</td>\n",
              "      <td>0.0</td>\n",
              "      <td>0.0</td>\n",
              "      <td>0.0</td>\n",
              "      <td>1.0</td>\n",
              "      <td>1.0</td>\n",
              "      <td>0.0</td>\n",
              "    </tr>\n",
              "    <tr>\n",
              "      <th>3</th>\n",
              "      <td>0.0</td>\n",
              "      <td>0.000287</td>\n",
              "      <td>0.024731</td>\n",
              "      <td>0.067637</td>\n",
              "      <td>0.0</td>\n",
              "      <td>0.0</td>\n",
              "      <td>1.0</td>\n",
              "      <td>0.000295</td>\n",
              "      <td>0.021933</td>\n",
              "      <td>0.054236</td>\n",
              "      <td>...</td>\n",
              "      <td>0.0</td>\n",
              "      <td>1.0</td>\n",
              "      <td>0.0</td>\n",
              "      <td>0.0</td>\n",
              "      <td>0.0</td>\n",
              "      <td>0.0</td>\n",
              "      <td>0.0</td>\n",
              "      <td>1.0</td>\n",
              "      <td>1.0</td>\n",
              "      <td>0.0</td>\n",
              "    </tr>\n",
              "    <tr>\n",
              "      <th>4</th>\n",
              "      <td>0.0</td>\n",
              "      <td>0.000294</td>\n",
              "      <td>0.022914</td>\n",
              "      <td>0.066912</td>\n",
              "      <td>0.0</td>\n",
              "      <td>0.0</td>\n",
              "      <td>1.0</td>\n",
              "      <td>0.000287</td>\n",
              "      <td>0.015102</td>\n",
              "      <td>0.055594</td>\n",
              "      <td>...</td>\n",
              "      <td>0.0</td>\n",
              "      <td>1.0</td>\n",
              "      <td>0.0</td>\n",
              "      <td>0.0</td>\n",
              "      <td>0.0</td>\n",
              "      <td>0.0</td>\n",
              "      <td>0.0</td>\n",
              "      <td>1.0</td>\n",
              "      <td>1.0</td>\n",
              "      <td>0.0</td>\n",
              "    </tr>\n",
              "    <tr>\n",
              "      <th>...</th>\n",
              "      <td>...</td>\n",
              "      <td>...</td>\n",
              "      <td>...</td>\n",
              "      <td>...</td>\n",
              "      <td>...</td>\n",
              "      <td>...</td>\n",
              "      <td>...</td>\n",
              "      <td>...</td>\n",
              "      <td>...</td>\n",
              "      <td>...</td>\n",
              "      <td>...</td>\n",
              "      <td>...</td>\n",
              "      <td>...</td>\n",
              "      <td>...</td>\n",
              "      <td>...</td>\n",
              "      <td>...</td>\n",
              "      <td>...</td>\n",
              "      <td>...</td>\n",
              "      <td>...</td>\n",
              "      <td>...</td>\n",
              "      <td>...</td>\n",
              "    </tr>\n",
              "    <tr>\n",
              "      <th>259995</th>\n",
              "      <td>1.0</td>\n",
              "      <td>0.001080</td>\n",
              "      <td>0.020423</td>\n",
              "      <td>0.055184</td>\n",
              "      <td>0.0</td>\n",
              "      <td>1.0</td>\n",
              "      <td>1.0</td>\n",
              "      <td>0.000546</td>\n",
              "      <td>0.021717</td>\n",
              "      <td>0.046979</td>\n",
              "      <td>...</td>\n",
              "      <td>0.0</td>\n",
              "      <td>1.0</td>\n",
              "      <td>1.0</td>\n",
              "      <td>0.0</td>\n",
              "      <td>0.0</td>\n",
              "      <td>0.0</td>\n",
              "      <td>0.0</td>\n",
              "      <td>0.0</td>\n",
              "      <td>1.0</td>\n",
              "      <td>0.0</td>\n",
              "    </tr>\n",
              "    <tr>\n",
              "      <th>259996</th>\n",
              "      <td>1.0</td>\n",
              "      <td>0.000545</td>\n",
              "      <td>0.022688</td>\n",
              "      <td>0.057960</td>\n",
              "      <td>0.0</td>\n",
              "      <td>1.0</td>\n",
              "      <td>1.0</td>\n",
              "      <td>0.001141</td>\n",
              "      <td>0.022318</td>\n",
              "      <td>0.042468</td>\n",
              "      <td>...</td>\n",
              "      <td>0.0</td>\n",
              "      <td>1.0</td>\n",
              "      <td>1.0</td>\n",
              "      <td>0.0</td>\n",
              "      <td>0.0</td>\n",
              "      <td>0.0</td>\n",
              "      <td>0.0</td>\n",
              "      <td>0.0</td>\n",
              "      <td>1.0</td>\n",
              "      <td>0.0</td>\n",
              "    </tr>\n",
              "    <tr>\n",
              "      <th>259997</th>\n",
              "      <td>1.0</td>\n",
              "      <td>0.001140</td>\n",
              "      <td>0.023316</td>\n",
              "      <td>0.052394</td>\n",
              "      <td>0.0</td>\n",
              "      <td>1.0</td>\n",
              "      <td>1.0</td>\n",
              "      <td>0.000103</td>\n",
              "      <td>0.029955</td>\n",
              "      <td>0.054883</td>\n",
              "      <td>...</td>\n",
              "      <td>0.0</td>\n",
              "      <td>1.0</td>\n",
              "      <td>1.0</td>\n",
              "      <td>0.0</td>\n",
              "      <td>0.0</td>\n",
              "      <td>0.0</td>\n",
              "      <td>0.0</td>\n",
              "      <td>0.0</td>\n",
              "      <td>1.0</td>\n",
              "      <td>0.0</td>\n",
              "    </tr>\n",
              "    <tr>\n",
              "      <th>259998</th>\n",
              "      <td>1.0</td>\n",
              "      <td>0.000103</td>\n",
              "      <td>0.031295</td>\n",
              "      <td>0.067711</td>\n",
              "      <td>1.0</td>\n",
              "      <td>1.0</td>\n",
              "      <td>1.0</td>\n",
              "      <td>0.000033</td>\n",
              "      <td>0.012818</td>\n",
              "      <td>0.086021</td>\n",
              "      <td>...</td>\n",
              "      <td>0.0</td>\n",
              "      <td>1.0</td>\n",
              "      <td>1.0</td>\n",
              "      <td>0.0</td>\n",
              "      <td>0.0</td>\n",
              "      <td>0.0</td>\n",
              "      <td>0.0</td>\n",
              "      <td>0.0</td>\n",
              "      <td>1.0</td>\n",
              "      <td>0.0</td>\n",
              "    </tr>\n",
              "    <tr>\n",
              "      <th>259999</th>\n",
              "      <td>1.0</td>\n",
              "      <td>0.000033</td>\n",
              "      <td>0.013391</td>\n",
              "      <td>0.106126</td>\n",
              "      <td>0.0</td>\n",
              "      <td>0.0</td>\n",
              "      <td>1.0</td>\n",
              "      <td>0.000083</td>\n",
              "      <td>0.019840</td>\n",
              "      <td>0.064672</td>\n",
              "      <td>...</td>\n",
              "      <td>0.0</td>\n",
              "      <td>1.0</td>\n",
              "      <td>0.0</td>\n",
              "      <td>1.0</td>\n",
              "      <td>0.0</td>\n",
              "      <td>0.0</td>\n",
              "      <td>0.0</td>\n",
              "      <td>0.0</td>\n",
              "      <td>1.0</td>\n",
              "      <td>0.0</td>\n",
              "    </tr>\n",
              "  </tbody>\n",
              "</table>\n",
              "<p>260000 rows × 341 columns</p>\n",
              "</div>\n",
              "      <button class=\"colab-df-convert\" onclick=\"convertToInteractive('df-e9700f8e-2773-4630-8187-43a026e2873e')\"\n",
              "              title=\"Convert this dataframe to an interactive table.\"\n",
              "              style=\"display:none;\">\n",
              "        \n",
              "  <svg xmlns=\"http://www.w3.org/2000/svg\" height=\"24px\"viewBox=\"0 0 24 24\"\n",
              "       width=\"24px\">\n",
              "    <path d=\"M0 0h24v24H0V0z\" fill=\"none\"/>\n",
              "    <path d=\"M18.56 5.44l.94 2.06.94-2.06 2.06-.94-2.06-.94-.94-2.06-.94 2.06-2.06.94zm-11 1L8.5 8.5l.94-2.06 2.06-.94-2.06-.94L8.5 2.5l-.94 2.06-2.06.94zm10 10l.94 2.06.94-2.06 2.06-.94-2.06-.94-.94-2.06-.94 2.06-2.06.94z\"/><path d=\"M17.41 7.96l-1.37-1.37c-.4-.4-.92-.59-1.43-.59-.52 0-1.04.2-1.43.59L10.3 9.45l-7.72 7.72c-.78.78-.78 2.05 0 2.83L4 21.41c.39.39.9.59 1.41.59.51 0 1.02-.2 1.41-.59l7.78-7.78 2.81-2.81c.8-.78.8-2.07 0-2.86zM5.41 20L4 18.59l7.72-7.72 1.47 1.35L5.41 20z\"/>\n",
              "  </svg>\n",
              "      </button>\n",
              "      \n",
              "  <style>\n",
              "    .colab-df-container {\n",
              "      display:flex;\n",
              "      flex-wrap:wrap;\n",
              "      gap: 12px;\n",
              "    }\n",
              "\n",
              "    .colab-df-convert {\n",
              "      background-color: #E8F0FE;\n",
              "      border: none;\n",
              "      border-radius: 50%;\n",
              "      cursor: pointer;\n",
              "      display: none;\n",
              "      fill: #1967D2;\n",
              "      height: 32px;\n",
              "      padding: 0 0 0 0;\n",
              "      width: 32px;\n",
              "    }\n",
              "\n",
              "    .colab-df-convert:hover {\n",
              "      background-color: #E2EBFA;\n",
              "      box-shadow: 0px 1px 2px rgba(60, 64, 67, 0.3), 0px 1px 3px 1px rgba(60, 64, 67, 0.15);\n",
              "      fill: #174EA6;\n",
              "    }\n",
              "\n",
              "    [theme=dark] .colab-df-convert {\n",
              "      background-color: #3B4455;\n",
              "      fill: #D2E3FC;\n",
              "    }\n",
              "\n",
              "    [theme=dark] .colab-df-convert:hover {\n",
              "      background-color: #434B5C;\n",
              "      box-shadow: 0px 1px 3px 1px rgba(0, 0, 0, 0.15);\n",
              "      filter: drop-shadow(0px 1px 2px rgba(0, 0, 0, 0.3));\n",
              "      fill: #FFFFFF;\n",
              "    }\n",
              "  </style>\n",
              "\n",
              "      <script>\n",
              "        const buttonEl =\n",
              "          document.querySelector('#df-e9700f8e-2773-4630-8187-43a026e2873e button.colab-df-convert');\n",
              "        buttonEl.style.display =\n",
              "          google.colab.kernel.accessAllowed ? 'block' : 'none';\n",
              "\n",
              "        async function convertToInteractive(key) {\n",
              "          const element = document.querySelector('#df-e9700f8e-2773-4630-8187-43a026e2873e');\n",
              "          const dataTable =\n",
              "            await google.colab.kernel.invokeFunction('convertToInteractive',\n",
              "                                                     [key], {});\n",
              "          if (!dataTable) return;\n",
              "\n",
              "          const docLinkHtml = 'Like what you see? Visit the ' +\n",
              "            '<a target=\"_blank\" href=https://colab.research.google.com/notebooks/data_table.ipynb>data table notebook</a>'\n",
              "            + ' to learn more about interactive tables.';\n",
              "          element.innerHTML = '';\n",
              "          dataTable['output_type'] = 'display_data';\n",
              "          await google.colab.output.renderOutput(dataTable, element);\n",
              "          const docLink = document.createElement('div');\n",
              "          docLink.innerHTML = docLinkHtml;\n",
              "          element.appendChild(docLink);\n",
              "        }\n",
              "      </script>\n",
              "    </div>\n",
              "  </div>\n",
              "  "
            ]
          },
          "metadata": {},
          "execution_count": 30
        }
      ]
    },
    {
      "cell_type": "code",
      "source": [
        "train_input = df.iloc[X_train]\n",
        "train_labels = y_train\n",
        "\n",
        "test_input = df.iloc[X_test]\n",
        "test_labels = y_test"
      ],
      "metadata": {
        "id": "1r17Ix7kohhs"
      },
      "execution_count": null,
      "outputs": []
    },
    {
      "cell_type": "code",
      "source": [
        "test_input.shape"
      ],
      "metadata": {
        "colab": {
          "base_uri": "https://localhost:8080/"
        },
        "id": "_VyC3R8p1v0r",
        "outputId": "21099e3b-0b26-464a-cb2c-736ed3828c84"
      },
      "execution_count": null,
      "outputs": [
        {
          "output_type": "execute_result",
          "data": {
            "text/plain": [
              "(60976, 341)"
            ]
          },
          "metadata": {},
          "execution_count": 32
        }
      ]
    },
    {
      "cell_type": "code",
      "source": [
        "model = get_basic_model()\n",
        "model.fit(train_input, train_labels, epochs=1, batch_size=2)"
      ],
      "metadata": {
        "colab": {
          "base_uri": "https://localhost:8080/"
        },
        "id": "X9WbhFXInkkx",
        "outputId": "1f2d9839-81d6-4499-a2e8-04b62d93c914"
      },
      "execution_count": null,
      "outputs": [
        {
          "output_type": "stream",
          "name": "stdout",
          "text": [
            "130000/130000 [==============================] - 235s 2ms/step - loss: 0.4573 - accuracy: 0.7600\n"
          ]
        },
        {
          "output_type": "execute_result",
          "data": {
            "text/plain": [
              "<keras.callbacks.History at 0x7fabe6a3ba60>"
            ]
          },
          "metadata": {},
          "execution_count": 33
        }
      ]
    },
    {
      "cell_type": "code",
      "source": [
        "results = model.evaluate(test_input, test_labels, batch_size=32)"
      ],
      "metadata": {
        "colab": {
          "base_uri": "https://localhost:8080/"
        },
        "id": "1tQJl1vvoG73",
        "outputId": "15e10aa9-1ec4-4294-c5a0-dd6d87538573"
      },
      "execution_count": null,
      "outputs": [
        {
          "output_type": "stream",
          "name": "stdout",
          "text": [
            "1906/1906 [==============================] - 3s 1ms/step - loss: 0.4609 - accuracy: 0.7657\n"
          ]
        }
      ]
    },
    {
      "cell_type": "code",
      "source": [
        "VL_weight = []\n",
        "CD4_weight = []\n",
        "\n",
        "for m in range(12):\n",
        "    VL_weight.append(abs(model.layers[0].kernel[m*12+1,0].numpy()))\n",
        "    CD4_weight.append(abs(model.layers[0].kernel[m*12+2,0].numpy()))\n",
        "\n",
        "print(VL_weight)\n",
        "print(CD4_weight)"
      ],
      "metadata": {
        "colab": {
          "base_uri": "https://localhost:8080/"
        },
        "id": "7LZoza1ZjMYI",
        "outputId": "49ac3d2c-c09a-4efc-cdee-0951270d4593"
      },
      "execution_count": null,
      "outputs": [
        {
          "output_type": "stream",
          "name": "stdout",
          "text": [
            "[0.10887501, 0.3843232, 0.37557498, 0.073052295, 0.13710096, 0.43624014, 1.0318532, 0.17899336, 0.04904214, 0.47375804, 0.39979982, 0.37902457]\n",
            "[1.1476307, 1.0595403, 0.4833585, 1.0486419, 1.20722, 1.5189699, 0.6363776, 0.20489313, 0.38449943, 0.09821692, 0.140874, 0.013523381]\n"
          ]
        }
      ]
    },
    {
      "cell_type": "code",
      "source": [
        "fig, ax = plt.subplots()\n",
        "ax.plot([1,2,3,4,5,6,7,8,9,10,11,12], np.array(VL_weight)/max(VL_weight) * 100, label = 'VL')\n",
        "ax.plot([1,2,3,4,5,6,7,8,9,10,11,12], np.array(CD4_weight)/max(CD4_weight) * 100, label = 'CD4')\n",
        "\n",
        "fmt = '%.0f%%'\n",
        "yticks = mtick.FormatStrFormatter(fmt)\n",
        "ax.yaxis.set_major_formatter(yticks)\n",
        "plt.xlabel('Month')\n",
        "\n",
        "plt.legend()\n",
        "plt.title('Input weight of VL and CD4 Count in Determining Success')"
      ],
      "metadata": {
        "colab": {
          "base_uri": "https://localhost:8080/",
          "height": 581
        },
        "id": "vCajEHZKhDoD",
        "outputId": "dfc034bc-2647-4ba2-8acb-ad279fee5ec0"
      },
      "execution_count": null,
      "outputs": [
        {
          "output_type": "execute_result",
          "data": {
            "text/plain": [
              "Text(0.5, 1.0, 'Input weight of VL and CD4 Count in Determining Success')"
            ]
          },
          "metadata": {},
          "execution_count": 36
        },
        {
          "output_type": "display_data",
          "data": {
            "text/plain": [
              "<Figure size 800x600 with 1 Axes>"
            ],
            "image/png": "[encoded data removed]"
          },
          "metadata": {}
        }
      ]
    },
    {
      "cell_type": "code",
      "source": [],
      "metadata": {
        "id": "544J8KHuFH7H"
      },
      "execution_count": null,
      "outputs": []
    }
  ]
}