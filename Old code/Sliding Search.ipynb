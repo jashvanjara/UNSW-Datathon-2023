{
 "cells": [
  {
   "cell_type": "code",
   "execution_count": 38,
   "metadata": {},
   "outputs": [
    {
     "ename": "SyntaxError",
     "evalue": "invalid syntax (<ipython-input-38-0cf7086f26b4>, line 1)",
     "output_type": "error",
     "traceback": [
      "\u001b[1;36m  File \u001b[1;32m\"<ipython-input-38-0cf7086f26b4>\"\u001b[1;36m, line \u001b[1;32m1\u001b[0m\n\u001b[1;33m    conda install -c conda-forge cudatoolkit=11.8.0\u001b[0m\n\u001b[1;37m                ^\u001b[0m\n\u001b[1;31mSyntaxError\u001b[0m\u001b[1;31m:\u001b[0m invalid syntax\n"
     ]
    }
   ],
   "source": [
    "conda install -c conda-forge cudatoolkit=11.8.0\n",
    "python3 -m pip install nvidia-cudnn-cu11==8.6.0.163 tensorflow==2.12.*\n",
    "mkdir -p $CONDA_PREFIX/etc/conda/activate.d\n",
    "echo 'CUDNN_PATH=$(dirname $(python -c \"import nvidia.cudnn;print(nvidia.cudnn.__file__)\"))' >> $CONDA_PREFIX/etc/conda/activate.d/env_vars.sh\n",
    "echo 'export LD_LIBRARY_PATH=$LD_LIBRARY_PATH:$CONDA_PREFIX/lib/:$CUDNN_PATH/lib' >> $CONDA_PREFIX/etc/conda/activate.d/env_vars.sh\n",
    "source $CONDA_PREFIX/etc/conda/activate.d/env_vars.sh\n",
    "# Verify install:\n",
    "python3 -c \"import tensorflow as tf; print(tf.config.list_physical_devices('GPU'))\""
   ]
  },
  {
   "cell_type": "code",
   "execution_count": 42,
   "metadata": {},
   "outputs": [],
   "source": [
    "import pandas as pd\n",
    "import numpy as np\n",
    "import seaborn as sns\n",
    "import pylab as pl\n",
    "import matplotlib.pyplot as plt\n",
    "\n",
    "import os\n",
    "import datetime\n",
    "\n",
    "import IPython\n",
    "import IPython.display\n",
    "import matplotlib as mpl\n",
    "import matplotlib.pyplot as plt\n",
    "import numpy as np\n",
    "import pandas as pd\n",
    "import seaborn as sns\n",
    "import tensorflow as tf\n",
    "\n",
    "mpl.rcParams['figure.figsize'] = (8, 6)\n",
    "mpl.rcParams['axes.grid'] = False"
   ]
  },
  {
   "cell_type": "code",
   "execution_count": 2,
   "metadata": {},
   "outputs": [],
   "source": [
    "Data = pd.read_csv('HIV-Dataset.csv')"
   ]
  },
  {
   "cell_type": "code",
   "execution_count": 3,
   "metadata": {},
   "outputs": [
    {
     "name": "stdout",
     "output_type": "stream",
     "text": [
      "[[ 29.944271 793.4583    30.834505   1.         3.         0.\n",
      "    0.         3.         5.         0.         0.         1.\n",
      "    1.         0.         0.      ]\n",
      " [ 29.24198  467.4189    30.35598    1.         3.         0.\n",
      "    0.         3.         5.         0.         0.         0.\n",
      "    1.         0.         1.      ]\n",
      " [ 28.748991 465.12485   30.40532    1.         3.         0.\n",
      "    0.         3.         5.         0.         0.         0.\n",
      "    1.         0.         2.      ]]\n"
     ]
    }
   ],
   "source": [
    "data = Data.to_numpy()\n",
    "\n",
    "print(data[0:3])"
   ]
  },
  {
   "cell_type": "code",
   "execution_count": 34,
   "metadata": {},
   "outputs": [
    {
     "ename": "TypeError",
     "evalue": "'tuple' object cannot be interpreted as an integer",
     "output_type": "error",
     "traceback": [
      "\u001b[1;31m---------------------------------------------------------------------------\u001b[0m",
      "\u001b[1;31mTypeError\u001b[0m                                 Traceback (most recent call last)",
      "\u001b[1;32m<ipython-input-34-18eacac11fad>\u001b[0m in \u001b[0;36m<module>\u001b[1;34m\u001b[0m\n\u001b[1;32m----> 1\u001b[1;33m \u001b[0mdataset\u001b[0m \u001b[1;33m=\u001b[0m \u001b[0mnp\u001b[0m\u001b[1;33m.\u001b[0m\u001b[0mzeros\u001b[0m\u001b[1;33m(\u001b[0m\u001b[1;33m(\u001b[0m\u001b[0mtotal_size\u001b[0m\u001b[1;33m,\u001b[0m \u001b[1;33m(\u001b[0m\u001b[1;36m12\u001b[0m\u001b[1;33m,\u001b[0m \u001b[1;36m11\u001b[0m\u001b[1;33m)\u001b[0m\u001b[1;33m,\u001b[0m \u001b[1;36m1\u001b[0m\u001b[1;33m)\u001b[0m\u001b[1;33m)\u001b[0m\u001b[1;33m\u001b[0m\u001b[1;33m\u001b[0m\u001b[0m\n\u001b[0m",
      "\u001b[1;31mTypeError\u001b[0m: 'tuple' object cannot be interpreted as an integer"
     ]
    }
   ],
   "source": []
  },
  {
   "cell_type": "code",
   "execution_count": 4,
   "metadata": {},
   "outputs": [
    {
     "name": "stdout",
     "output_type": "stream",
     "text": [
      "320976\n"
     ]
    }
   ],
   "source": [
    "#search = np.array([]).reshape(int(len(data)/60) * 36, 8)\n",
    "\n",
    "total_size = int(len(data)/60) * 36\n",
    "print(total_size)\n",
    "\n",
    "search = np.zeros((total_size, 12, 11))\n",
    "demographic = np.zeros((total_size, 3))\n",
    "outcome = np.zeros((total_size, 2))\n",
    "#search = np.concatenate((search, [data[0:12, 0]]))"
   ]
  },
  {
   "cell_type": "code",
   "execution_count": 5,
   "metadata": {},
   "outputs": [],
   "source": [
    "for patient in range(int(len(data)/60)):\n",
    "    # Calculate first time stamp position\n",
    "    old_pos = patient*60\n",
    "    \n",
    "    # Store demographic information as one-off\n",
    "    demo = [data[old_pos, 13], data[old_pos, 3], data[old_pos, 4]]\n",
    "    \n",
    "    \n",
    "    for month in range(60):\n",
    "        # Calculate positions\n",
    "        new_pos = (patient*36)+month\n",
    "        old_pos = (patient*60)+month\n",
    "        \n",
    "        if month < 36:\n",
    "            # Store demographic\n",
    "            demographic[new_pos] = demo\n",
    "        \n",
    "            # Add new input for next 12 months\n",
    "            search[new_pos, :, 0:3] = data[old_pos:old_pos+12, 0:3]\n",
    "            search[new_pos, :, 3:11] = data[old_pos:old_pos+12, 5:13]\n",
    "        \n",
    "            # Review change in drug compared to last value of previous month\n",
    "            if (data[old_pos+12, 5:10] == data[old_pos+24, 5:10]).all():\n",
    "                    outcome[new_pos, 0] = 1\n",
    "        \n",
    "        if month > 12:\n",
    "            # Review for non-adherence\n",
    "            if data[old_pos, 12] == 0.0:\n",
    "                outcome[new_pos-13:new_pos-1, 1] = 1"
   ]
  },
  {
   "cell_type": "code",
   "execution_count": 44,
   "metadata": {},
   "outputs": [
    {
     "ename": "AttributeError",
     "evalue": "module 'tensorflow.python.keras.api._v1.keras.utils' has no attribute 'timeseries_dataset_from_array'",
     "output_type": "error",
     "traceback": [
      "\u001b[1;31m---------------------------------------------------------------------------\u001b[0m",
      "\u001b[1;31mAttributeError\u001b[0m                            Traceback (most recent call last)",
      "\u001b[1;32m<ipython-input-44-8a870cf42d9b>\u001b[0m in \u001b[0;36m<module>\u001b[1;34m\u001b[0m\n\u001b[1;32m----> 1\u001b[1;33m ds = tf.keras.utils.timeseries_dataset_from_array(\n\u001b[0m\u001b[0;32m      2\u001b[0m       \u001b[0mdata\u001b[0m\u001b[1;33m=\u001b[0m\u001b[0msearch\u001b[0m\u001b[1;33m,\u001b[0m\u001b[1;33m\u001b[0m\u001b[1;33m\u001b[0m\u001b[0m\n\u001b[0;32m      3\u001b[0m       \u001b[0mtargets\u001b[0m\u001b[1;33m=\u001b[0m\u001b[0moutcome\u001b[0m\u001b[1;33m[\u001b[0m\u001b[1;33m:\u001b[0m\u001b[1;33m,\u001b[0m \u001b[1;36m0\u001b[0m\u001b[1;33m]\u001b[0m\u001b[1;33m,\u001b[0m\u001b[1;33m\u001b[0m\u001b[1;33m\u001b[0m\u001b[0m\n\u001b[0;32m      4\u001b[0m       \u001b[0msequence_length\u001b[0m\u001b[1;33m=\u001b[0m\u001b[0mself\u001b[0m\u001b[1;33m.\u001b[0m\u001b[0mtotal_window_size\u001b[0m\u001b[1;33m,\u001b[0m\u001b[1;33m\u001b[0m\u001b[1;33m\u001b[0m\u001b[0m\n\u001b[0;32m      5\u001b[0m       \u001b[0msequence_stride\u001b[0m\u001b[1;33m=\u001b[0m\u001b[1;36m1\u001b[0m\u001b[1;33m,\u001b[0m\u001b[1;33m\u001b[0m\u001b[1;33m\u001b[0m\u001b[0m\n",
      "\u001b[1;32mc:\\users\\jashv\\appdata\\local\\programs\\python\\python37\\lib\\site-packages\\tensorflow\\python\\util\\deprecation_wrapper.py\u001b[0m in \u001b[0;36m__getattr__\u001b[1;34m(self, name)\u001b[0m\n\u001b[0;32m    104\u001b[0m     \u001b[1;32mif\u001b[0m \u001b[0mname\u001b[0m\u001b[1;33m.\u001b[0m\u001b[0mstartswith\u001b[0m\u001b[1;33m(\u001b[0m\u001b[1;34m'_dw_'\u001b[0m\u001b[1;33m)\u001b[0m\u001b[1;33m:\u001b[0m\u001b[1;33m\u001b[0m\u001b[1;33m\u001b[0m\u001b[0m\n\u001b[0;32m    105\u001b[0m       \u001b[1;32mraise\u001b[0m \u001b[0mAttributeError\u001b[0m\u001b[1;33m(\u001b[0m\u001b[1;34m'Accessing local variables before they are created.'\u001b[0m\u001b[1;33m)\u001b[0m\u001b[1;33m\u001b[0m\u001b[1;33m\u001b[0m\u001b[0m\n\u001b[1;32m--> 106\u001b[1;33m     \u001b[0mattr\u001b[0m \u001b[1;33m=\u001b[0m \u001b[0mgetattr\u001b[0m\u001b[1;33m(\u001b[0m\u001b[0mself\u001b[0m\u001b[1;33m.\u001b[0m\u001b[0m_dw_wrapped_module\u001b[0m\u001b[1;33m,\u001b[0m \u001b[0mname\u001b[0m\u001b[1;33m)\u001b[0m\u001b[1;33m\u001b[0m\u001b[1;33m\u001b[0m\u001b[0m\n\u001b[0m\u001b[0;32m    107\u001b[0m     if (self._dw_warning_count < _PER_MODULE_WARNING_LIMIT and\n\u001b[0;32m    108\u001b[0m         name not in self._dw_deprecated_printed):\n",
      "\u001b[1;31mAttributeError\u001b[0m: module 'tensorflow.python.keras.api._v1.keras.utils' has no attribute 'timeseries_dataset_from_array'"
     ]
    }
   ],
   "source": [
    "ds = tf.keras.utils.timeseries_dataset_from_array(\n",
    "      data=search,\n",
    "      targets=outcome[:, 0],\n",
    "      sequence_length=self.total_window_size,\n",
    "      sequence_stride=1,\n",
    "      shuffle=True,\n",
    "      batch_size=32,)\n"
   ]
  },
  {
   "cell_type": "code",
   "execution_count": 24,
   "metadata": {},
   "outputs": [
    {
     "data": {
      "text/plain": [
       "Index(['VL', 'CD4', 'Rel CD4', 'Base Drug Combo', 'Comp. INI', 'Comp. NNRTI',\n",
       "       'Extra PI', 'Extra pk-En', 'VL (M)', 'CD4 (M)', 'Drug (M)'],\n",
       "      dtype='object')"
      ]
     },
     "execution_count": 24,
     "metadata": {},
     "output_type": "execute_result"
    }
   ],
   "source": [
    "(Data.columns[0:3]).append(Data.columns[5:13])"
   ]
  },
  {
   "cell_type": "code",
   "execution_count": 43,
   "metadata": {
    "scrolled": true
   },
   "outputs": [],
   "source": [
    "col = np.array([])\n",
    "for i in range(12):\n",
    "    col = np.append(col, (Data.columns[0:3] + \"_\" + str(i)).append(Data.columns[5:13] + \"_\" + str(i)))\n",
    "\n",
    "\n",
    "final = pd.concat([\n",
    "    pd.DataFrame(demographic, columns=['PatientID', 'Gender', 'Ethnicity']),\n",
    "    pd.DataFrame(search.reshape(total_size, 12 * 11), columns = col),\n",
    "    pd.DataFrame(outcome, columns=['Drug Changed', \"Non Adherent\"])],\n",
    "    axis = 1)"
   ]
  },
  {
   "cell_type": "markdown",
   "metadata": {},
   "source": [
    "Each row has:\n",
    "\n",
    " - 3 identifiers (PatientID, Gender and Ethnicity)\n",
    "\n",
    " - 12 months of 11 features (132 in total)\n",
    "\n",
    " - 2 outcomes\n",
    "   - Drug changed at end of next 12 months\n",
    "   - Non adherent for any period in next 12 months\n",
    "\n",
    "Which adds up to 137 columns per row"
   ]
  },
  {
   "cell_type": "code",
   "execution_count": 26,
   "metadata": {},
   "outputs": [
    {
     "data": {
      "text/html": [
       "<div>\n",
       "<style scoped>\n",
       "    .dataframe tbody tr th:only-of-type {\n",
       "        vertical-align: middle;\n",
       "    }\n",
       "\n",
       "    .dataframe tbody tr th {\n",
       "        vertical-align: top;\n",
       "    }\n",
       "\n",
       "    .dataframe thead th {\n",
       "        text-align: right;\n",
       "    }\n",
       "</style>\n",
       "<table border=\"1\" class=\"dataframe\">\n",
       "  <thead>\n",
       "    <tr style=\"text-align: right;\">\n",
       "      <th></th>\n",
       "      <th>PatientID</th>\n",
       "      <th>Gender</th>\n",
       "      <th>Ethnicity</th>\n",
       "      <th>VL_0</th>\n",
       "      <th>CD4_0</th>\n",
       "      <th>Rel CD4_0</th>\n",
       "      <th>Base Drug Combo_0</th>\n",
       "      <th>Comp. INI_0</th>\n",
       "      <th>Comp. NNRTI_0</th>\n",
       "      <th>Extra PI_0</th>\n",
       "      <th>...</th>\n",
       "      <th>Base Drug Combo_11</th>\n",
       "      <th>Comp. INI_11</th>\n",
       "      <th>Comp. NNRTI_11</th>\n",
       "      <th>Extra PI_11</th>\n",
       "      <th>Extra pk-En_11</th>\n",
       "      <th>VL (M)_11</th>\n",
       "      <th>CD4 (M)_11</th>\n",
       "      <th>Drug (M)_11</th>\n",
       "      <th>Drug Changed</th>\n",
       "      <th>Non Adherent</th>\n",
       "    </tr>\n",
       "  </thead>\n",
       "  <tbody>\n",
       "    <tr>\n",
       "      <th>0</th>\n",
       "      <td>0.0</td>\n",
       "      <td>1.0</td>\n",
       "      <td>3.0</td>\n",
       "      <td>29.944271</td>\n",
       "      <td>793.45830</td>\n",
       "      <td>30.834505</td>\n",
       "      <td>0.0</td>\n",
       "      <td>0.0</td>\n",
       "      <td>3.0</td>\n",
       "      <td>5.0</td>\n",
       "      <td>...</td>\n",
       "      <td>0.0</td>\n",
       "      <td>0.0</td>\n",
       "      <td>3.0</td>\n",
       "      <td>5.0</td>\n",
       "      <td>0.0</td>\n",
       "      <td>0.0</td>\n",
       "      <td>0.0</td>\n",
       "      <td>1.0</td>\n",
       "      <td>1.0</td>\n",
       "      <td>0.0</td>\n",
       "    </tr>\n",
       "    <tr>\n",
       "      <th>1</th>\n",
       "      <td>0.0</td>\n",
       "      <td>1.0</td>\n",
       "      <td>3.0</td>\n",
       "      <td>29.241980</td>\n",
       "      <td>467.41890</td>\n",
       "      <td>30.355980</td>\n",
       "      <td>0.0</td>\n",
       "      <td>0.0</td>\n",
       "      <td>3.0</td>\n",
       "      <td>5.0</td>\n",
       "      <td>...</td>\n",
       "      <td>0.0</td>\n",
       "      <td>0.0</td>\n",
       "      <td>3.0</td>\n",
       "      <td>5.0</td>\n",
       "      <td>0.0</td>\n",
       "      <td>0.0</td>\n",
       "      <td>0.0</td>\n",
       "      <td>1.0</td>\n",
       "      <td>1.0</td>\n",
       "      <td>0.0</td>\n",
       "    </tr>\n",
       "    <tr>\n",
       "      <th>2</th>\n",
       "      <td>0.0</td>\n",
       "      <td>1.0</td>\n",
       "      <td>3.0</td>\n",
       "      <td>28.748991</td>\n",
       "      <td>465.12485</td>\n",
       "      <td>30.405320</td>\n",
       "      <td>0.0</td>\n",
       "      <td>0.0</td>\n",
       "      <td>3.0</td>\n",
       "      <td>5.0</td>\n",
       "      <td>...</td>\n",
       "      <td>0.0</td>\n",
       "      <td>0.0</td>\n",
       "      <td>3.0</td>\n",
       "      <td>5.0</td>\n",
       "      <td>0.0</td>\n",
       "      <td>0.0</td>\n",
       "      <td>0.0</td>\n",
       "      <td>1.0</td>\n",
       "      <td>1.0</td>\n",
       "      <td>0.0</td>\n",
       "    </tr>\n",
       "    <tr>\n",
       "      <th>3</th>\n",
       "      <td>0.0</td>\n",
       "      <td>1.0</td>\n",
       "      <td>3.0</td>\n",
       "      <td>28.101835</td>\n",
       "      <td>692.00690</td>\n",
       "      <td>30.248816</td>\n",
       "      <td>0.0</td>\n",
       "      <td>0.0</td>\n",
       "      <td>3.0</td>\n",
       "      <td>5.0</td>\n",
       "      <td>...</td>\n",
       "      <td>0.0</td>\n",
       "      <td>0.0</td>\n",
       "      <td>3.0</td>\n",
       "      <td>5.0</td>\n",
       "      <td>0.0</td>\n",
       "      <td>0.0</td>\n",
       "      <td>0.0</td>\n",
       "      <td>1.0</td>\n",
       "      <td>1.0</td>\n",
       "      <td>0.0</td>\n",
       "    </tr>\n",
       "    <tr>\n",
       "      <th>4</th>\n",
       "      <td>0.0</td>\n",
       "      <td>1.0</td>\n",
       "      <td>3.0</td>\n",
       "      <td>28.813837</td>\n",
       "      <td>641.75714</td>\n",
       "      <td>29.944712</td>\n",
       "      <td>0.0</td>\n",
       "      <td>0.0</td>\n",
       "      <td>3.0</td>\n",
       "      <td>5.0</td>\n",
       "      <td>...</td>\n",
       "      <td>0.0</td>\n",
       "      <td>0.0</td>\n",
       "      <td>3.0</td>\n",
       "      <td>5.0</td>\n",
       "      <td>0.0</td>\n",
       "      <td>0.0</td>\n",
       "      <td>0.0</td>\n",
       "      <td>1.0</td>\n",
       "      <td>1.0</td>\n",
       "      <td>0.0</td>\n",
       "    </tr>\n",
       "  </tbody>\n",
       "</table>\n",
       "<p>5 rows × 137 columns</p>\n",
       "</div>"
      ],
      "text/plain": [
       "   PatientID  Gender  Ethnicity       VL_0      CD4_0  Rel CD4_0  \\\n",
       "0        0.0     1.0        3.0  29.944271  793.45830  30.834505   \n",
       "1        0.0     1.0        3.0  29.241980  467.41890  30.355980   \n",
       "2        0.0     1.0        3.0  28.748991  465.12485  30.405320   \n",
       "3        0.0     1.0        3.0  28.101835  692.00690  30.248816   \n",
       "4        0.0     1.0        3.0  28.813837  641.75714  29.944712   \n",
       "\n",
       "   Base Drug Combo_0  Comp. INI_0  Comp. NNRTI_0  Extra PI_0  ...  \\\n",
       "0                0.0          0.0            3.0         5.0  ...   \n",
       "1                0.0          0.0            3.0         5.0  ...   \n",
       "2                0.0          0.0            3.0         5.0  ...   \n",
       "3                0.0          0.0            3.0         5.0  ...   \n",
       "4                0.0          0.0            3.0         5.0  ...   \n",
       "\n",
       "   Base Drug Combo_11  Comp. INI_11  Comp. NNRTI_11  Extra PI_11  \\\n",
       "0                 0.0           0.0             3.0          5.0   \n",
       "1                 0.0           0.0             3.0          5.0   \n",
       "2                 0.0           0.0             3.0          5.0   \n",
       "3                 0.0           0.0             3.0          5.0   \n",
       "4                 0.0           0.0             3.0          5.0   \n",
       "\n",
       "   Extra pk-En_11  VL (M)_11  CD4 (M)_11  Drug (M)_11  Drug Changed  \\\n",
       "0             0.0        0.0         0.0          1.0           1.0   \n",
       "1             0.0        0.0         0.0          1.0           1.0   \n",
       "2             0.0        0.0         0.0          1.0           1.0   \n",
       "3             0.0        0.0         0.0          1.0           1.0   \n",
       "4             0.0        0.0         0.0          1.0           1.0   \n",
       "\n",
       "   Non Adherent  \n",
       "0           0.0  \n",
       "1           0.0  \n",
       "2           0.0  \n",
       "3           0.0  \n",
       "4           0.0  \n",
       "\n",
       "[5 rows x 137 columns]"
      ]
     },
     "execution_count": 26,
     "metadata": {},
     "output_type": "execute_result"
    }
   ],
   "source": [
    "final.head()"
   ]
  }
 ],
 "metadata": {
  "kernelspec": {
   "display_name": "Python 3",
   "language": "python",
   "name": "python3"
  },
  "language_info": {
   "codemirror_mode": {
    "name": "ipython",
    "version": 3
   },
   "file_extension": ".py",
   "mimetype": "text/x-python",
   "name": "python",
   "nbconvert_exporter": "python",
   "pygments_lexer": "ipython3",
   "version": "3.7.3"
  }
 },
 "nbformat": 4,
 "nbformat_minor": 2
}
